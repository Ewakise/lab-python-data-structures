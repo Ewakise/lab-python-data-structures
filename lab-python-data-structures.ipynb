{
 "cells": [
  {
   "cell_type": "markdown",
   "metadata": {
    "tags": []
   },
   "source": [
    "# Lab | Data Structures "
   ]
  },
  {
   "cell_type": "code",
   "execution_count": null,
   "metadata": {},
   "outputs": [
    {
     "name": "stdout",
     "output_type": "stream",
     "text": [
      "Enter the quantity of each product:\n"
     ]
    },
    {
     "name": "stdin",
     "output_type": "stream",
     "text": [
      "Enter number of t-shirt:  4\n",
      "Enter number of mug:  2\n",
      "Enter number of hat:  3\n",
      "Enter number of book:  5\n",
      "Enter number of keychain:  6\n"
     ]
    },
    {
     "name": "stdout",
     "output_type": "stream",
     "text": [
      "Available products: ['t-shirt', 'mug', 'hat', 'book', 'keychain']\n"
     ]
    },
    {
     "name": "stdin",
     "output_type": "stream",
     "text": [
      "Select product 1:  1\n"
     ]
    },
    {
     "name": "stdout",
     "output_type": "stream",
     "text": [
      "Invalid product. Please select from the list.\n"
     ]
    },
    {
     "name": "stdin",
     "output_type": "stream",
     "text": [
      "Select product 1:  4\n"
     ]
    },
    {
     "name": "stdout",
     "output_type": "stream",
     "text": [
      "Invalid product. Please select from the list.\n"
     ]
    }
   ],
   "source": [
    " #1\n",
    "products=[\"t-shirt\", \"mug\", \"hat\", \"book\", \"keychain\"]\n",
    " #2\n",
    " inventory={}\n",
    "#3\n",
    "print(\"Enter the quantity of each product:\")\n",
    "\n",
    "for product in products:\n",
    "    quantity = int(input(f\"Enter number of {product}: \"))\n",
    "    inventory[product] = quantity\n",
    "#4\n",
    "customer_orders=set()\n",
    " #5\n",
    "products = [\"t-shirt\", \"mug\", \"hat\", \"book\", \"keychain\"]\n",
    "customer_orders = set()\n",
    "\n",
    "print(\"Available products:\", products)\n",
    "\n",
    "while len(customer_orders) < 3:\n",
    "    product = input(f\"Select product {len(customer_orders) + 1}: \")\n",
    "\n",
    "    if product in products:\n",
    "        if product not in customer_orders:\n",
    "            customer_orders.add(product)\n",
    "            print(f\"{product} added to your order.\")\n",
    "        else:\n",
    "            print(\"You already selected that product.\")\n",
    "    else:\n",
    "        print(\"Invalid product. Please select from the list.\")\n",
    "\n",
    "#6\n",
    "for item in customer_orders:\n",
    "    print(\"-\", item)\n",
    "    print(\"customer orders:\")\n",
    "for product in customer_orders:\n",
    "    print(product)\n",
    "    #7\n",
    "    total_products_ordered = len(customer_orders)\n",
    "percentage_ordered = (total_products_ordered / len(products)) * 100\n",
    "order_status = (total_products_ordered, percentage_ordered)\n",
    " #8\n",
    "print(f\"Total Products Ordered: {order_status[0]}\")\n",
    "print(f\"Percentage of Products Ordered: {order_status[1]:.2f}%\") \n",
    "      #9\n",
    "for product in customer_orders:\n",
    "    if inventory[product] > 0:\n",
    "        inventory[product] -= 1\n",
    "    else:\n",
    "        print(f\"{product} is already out of stock.\")\n",
    "        #10\n",
    "print(\"\\nUpdated Inventory:\")\n",
    "for product in products:\n",
    "    print(f\"{product}: {inventory[product]}\")"
   ]
  },
  {
   "cell_type": "markdown",
   "metadata": {},
   "source": [
    "## Exercise: Managing Customer Orders\n",
    "\n",
    "As part of a business venture, you are starting an online store that sells various products. To ensure smooth operations, you need to develop a program that manages customer orders and inventory.\n",
    "\n",
    "Follow the steps below to complete the exercise:\n",
    "\n",
    "1. Define a list called `products` that contains the following items: \"t-shirt\", \"mug\", \"hat\", \"book\", \"keychain\".\n",
    "\n",
    "2. Create an empty dictionary called `inventory`.\n",
    "\n",
    "3. Ask the user to input the quantity of each product available in the inventory. Use the product names from the `products` list as keys in the `inventory` dictionary and assign the respective quantities as values.\n",
    "\n",
    "4. Create an empty set called `customer_orders`.\n",
    "\n",
    "5. Ask the user to input the name of three products that a customer wants to order (from those in the products list, meaning three products out of \"t-shirt\", \"mug\", \"hat\", \"book\" or \"keychain\". Add each product name to the `customer_orders` set.\n",
    "\n",
    "6. Print the products in the `customer_orders` set.\n",
    "\n",
    "7. Calculate the following order statistics:\n",
    "   - Total Products Ordered: The total number of products in the `customer_orders` set.\n",
    "   - Percentage of Products Ordered: The percentage of products ordered compared to the total available products.\n",
    "   \n",
    "   Store these statistics in a tuple called `order_status`.\n",
    "\n",
    "8. Print the order statistics using the following format:\n",
    "   ```\n",
    "   Order Statistics:\n",
    "   Total Products Ordered: <total_products_ordered>\n",
    "   Percentage of Products Ordered: <percentage_ordered>% \n",
    "   ```\n",
    "\n",
    "9. Update the inventory by subtracting 1 from the quantity of each product. Modify the `inventory` dictionary accordingly.\n",
    "\n",
    "10. Print the updated inventory, displaying the quantity of each product on separate lines.\n",
    "\n",
    "Solve the exercise by implementing the steps using the Python concepts of lists, dictionaries, sets, and basic input/output operations. "
   ]
  }
 ],
 "metadata": {
  "kernelspec": {
   "display_name": "Python [conda env:.ipython]",
   "language": "python",
   "name": "conda-env-.ipython-py"
  },
  "language_info": {
   "codemirror_mode": {
    "name": "ipython",
    "version": 3
   },
   "file_extension": ".py",
   "mimetype": "text/x-python",
   "name": "python",
   "nbconvert_exporter": "python",
   "pygments_lexer": "ipython3",
   "version": "3.12.7"
  }
 },
 "nbformat": 4,
 "nbformat_minor": 4
}
